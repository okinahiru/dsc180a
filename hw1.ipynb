{
 "cells": [
  {
   "cell_type": "code",
   "execution_count": 46,
   "metadata": {},
   "outputs": [],
   "source": [
    "import pandas as pd\n",
    "import networkx as nx\n",
    "import matplotlib.pyplot as plt"
   ]
  },
  {
   "cell_type": "code",
   "execution_count": 47,
   "metadata": {},
   "outputs": [],
   "source": [
    "ridership_df = pd.read_csv(\n",
    "    \"MTA_Subway_Origin-Destination_Ridership_Estimate__2024_20241008.csv\"\n",
    ")\n",
    "stations_df = pd.read_csv(\"MTA_Subway_Stations_updated.csv\")"
   ]
  },
  {
   "cell_type": "code",
   "execution_count": 48,
   "metadata": {},
   "outputs": [
    {
     "data": {
      "text/html": [
       "<div>\n",
       "<style scoped>\n",
       "    .dataframe tbody tr th:only-of-type {\n",
       "        vertical-align: middle;\n",
       "    }\n",
       "\n",
       "    .dataframe tbody tr th {\n",
       "        vertical-align: top;\n",
       "    }\n",
       "\n",
       "    .dataframe thead th {\n",
       "        text-align: right;\n",
       "    }\n",
       "</style>\n",
       "<table border=\"1\" class=\"dataframe\">\n",
       "  <thead>\n",
       "    <tr style=\"text-align: right;\">\n",
       "      <th></th>\n",
       "      <th>Day of Week</th>\n",
       "      <th>Hour of Day</th>\n",
       "      <th>Timestamp</th>\n",
       "      <th>Origin Station Complex ID</th>\n",
       "      <th>Destination Station Complex ID</th>\n",
       "      <th>Estimated Average Ridership</th>\n",
       "    </tr>\n",
       "  </thead>\n",
       "  <tbody>\n",
       "    <tr>\n",
       "      <th>0</th>\n",
       "      <td>Monday</td>\n",
       "      <td>1</td>\n",
       "      <td>01/08/2024 01:00:00 AM</td>\n",
       "      <td>26</td>\n",
       "      <td>355</td>\n",
       "      <td>0.5556</td>\n",
       "    </tr>\n",
       "    <tr>\n",
       "      <th>1</th>\n",
       "      <td>Monday</td>\n",
       "      <td>1</td>\n",
       "      <td>01/08/2024 01:00:00 AM</td>\n",
       "      <td>231</td>\n",
       "      <td>284</td>\n",
       "      <td>0.3068</td>\n",
       "    </tr>\n",
       "    <tr>\n",
       "      <th>2</th>\n",
       "      <td>Monday</td>\n",
       "      <td>1</td>\n",
       "      <td>01/08/2024 01:00:00 AM</td>\n",
       "      <td>313</td>\n",
       "      <td>71</td>\n",
       "      <td>0.3012</td>\n",
       "    </tr>\n",
       "    <tr>\n",
       "      <th>3</th>\n",
       "      <td>Monday</td>\n",
       "      <td>1</td>\n",
       "      <td>01/08/2024 01:00:00 AM</td>\n",
       "      <td>320</td>\n",
       "      <td>309</td>\n",
       "      <td>0.9000</td>\n",
       "    </tr>\n",
       "    <tr>\n",
       "      <th>4</th>\n",
       "      <td>Monday</td>\n",
       "      <td>1</td>\n",
       "      <td>01/08/2024 01:00:00 AM</td>\n",
       "      <td>399</td>\n",
       "      <td>618</td>\n",
       "      <td>0.2940</td>\n",
       "    </tr>\n",
       "  </tbody>\n",
       "</table>\n",
       "</div>"
      ],
      "text/plain": [
       "  Day of Week  Hour of Day               Timestamp  Origin Station Complex ID  \\\n",
       "0      Monday            1  01/08/2024 01:00:00 AM                         26   \n",
       "1      Monday            1  01/08/2024 01:00:00 AM                        231   \n",
       "2      Monday            1  01/08/2024 01:00:00 AM                        313   \n",
       "3      Monday            1  01/08/2024 01:00:00 AM                        320   \n",
       "4      Monday            1  01/08/2024 01:00:00 AM                        399   \n",
       "\n",
       "   Destination Station Complex ID  Estimated Average Ridership  \n",
       "0                             355                       0.5556  \n",
       "1                             284                       0.3068  \n",
       "2                              71                       0.3012  \n",
       "3                             309                       0.9000  \n",
       "4                             618                       0.2940  "
      ]
     },
     "execution_count": 48,
     "metadata": {},
     "output_type": "execute_result"
    }
   ],
   "source": [
    "ridership_df = ridership_df.drop(\n",
    "    columns=[\n",
    "        \"Year\",\n",
    "        \"Month\",\n",
    "        \"Origin Station Complex Name\",\n",
    "        \"Destination Station Complex Name\",\n",
    "        \"Origin Latitude\",\n",
    "        \"Origin Longitude\",\n",
    "        \"Destination Latitude\",\n",
    "        \"Destination Longitude\",\n",
    "        \"Origin Point\",\n",
    "        \"Destination Point\",\n",
    "    ]\n",
    ")\n",
    "ridership_df.head()"
   ]
  },
  {
   "cell_type": "code",
   "execution_count": 49,
   "metadata": {},
   "outputs": [
    {
     "data": {
      "text/html": [
       "<div>\n",
       "<style scoped>\n",
       "    .dataframe tbody tr th:only-of-type {\n",
       "        vertical-align: middle;\n",
       "    }\n",
       "\n",
       "    .dataframe tbody tr th {\n",
       "        vertical-align: top;\n",
       "    }\n",
       "\n",
       "    .dataframe thead th {\n",
       "        text-align: right;\n",
       "    }\n",
       "</style>\n",
       "<table border=\"1\" class=\"dataframe\">\n",
       "  <thead>\n",
       "    <tr style=\"text-align: right;\">\n",
       "      <th></th>\n",
       "      <th>GTFS Stop ID</th>\n",
       "      <th>Station ID</th>\n",
       "      <th>Complex ID</th>\n",
       "      <th>Stop Name</th>\n",
       "      <th>Borough</th>\n",
       "      <th>CBD</th>\n",
       "      <th>Daytime Routes</th>\n",
       "      <th>Structure</th>\n",
       "      <th>GTFS Latitude</th>\n",
       "      <th>GTFS Longitude</th>\n",
       "      <th>ADA</th>\n",
       "    </tr>\n",
       "  </thead>\n",
       "  <tbody>\n",
       "    <tr>\n",
       "      <th>0</th>\n",
       "      <td>R01</td>\n",
       "      <td>1</td>\n",
       "      <td>1</td>\n",
       "      <td>Astoria-Ditmars Blvd</td>\n",
       "      <td>Q</td>\n",
       "      <td>False</td>\n",
       "      <td>N W</td>\n",
       "      <td>Elevated</td>\n",
       "      <td>40.775036</td>\n",
       "      <td>-73.912034</td>\n",
       "      <td>0</td>\n",
       "    </tr>\n",
       "    <tr>\n",
       "      <th>1</th>\n",
       "      <td>R03</td>\n",
       "      <td>2</td>\n",
       "      <td>2</td>\n",
       "      <td>Astoria Blvd</td>\n",
       "      <td>Q</td>\n",
       "      <td>False</td>\n",
       "      <td>N W</td>\n",
       "      <td>Elevated</td>\n",
       "      <td>40.770258</td>\n",
       "      <td>-73.917843</td>\n",
       "      <td>1</td>\n",
       "    </tr>\n",
       "    <tr>\n",
       "      <th>2</th>\n",
       "      <td>R04</td>\n",
       "      <td>3</td>\n",
       "      <td>3</td>\n",
       "      <td>30 Av</td>\n",
       "      <td>Q</td>\n",
       "      <td>False</td>\n",
       "      <td>N W</td>\n",
       "      <td>Elevated</td>\n",
       "      <td>40.766779</td>\n",
       "      <td>-73.921479</td>\n",
       "      <td>0</td>\n",
       "    </tr>\n",
       "    <tr>\n",
       "      <th>3</th>\n",
       "      <td>R05</td>\n",
       "      <td>4</td>\n",
       "      <td>4</td>\n",
       "      <td>Broadway</td>\n",
       "      <td>Q</td>\n",
       "      <td>False</td>\n",
       "      <td>N W</td>\n",
       "      <td>Elevated</td>\n",
       "      <td>40.761820</td>\n",
       "      <td>-73.925508</td>\n",
       "      <td>0</td>\n",
       "    </tr>\n",
       "    <tr>\n",
       "      <th>4</th>\n",
       "      <td>R06</td>\n",
       "      <td>5</td>\n",
       "      <td>5</td>\n",
       "      <td>36 Av</td>\n",
       "      <td>Q</td>\n",
       "      <td>False</td>\n",
       "      <td>N W</td>\n",
       "      <td>Elevated</td>\n",
       "      <td>40.756804</td>\n",
       "      <td>-73.929575</td>\n",
       "      <td>0</td>\n",
       "    </tr>\n",
       "  </tbody>\n",
       "</table>\n",
       "</div>"
      ],
      "text/plain": [
       "  GTFS Stop ID  Station ID  Complex ID             Stop Name Borough    CBD  \\\n",
       "0          R01           1           1  Astoria-Ditmars Blvd       Q  False   \n",
       "1          R03           2           2          Astoria Blvd       Q  False   \n",
       "2          R04           3           3                 30 Av       Q  False   \n",
       "3          R05           4           4              Broadway       Q  False   \n",
       "4          R06           5           5                 36 Av       Q  False   \n",
       "\n",
       "  Daytime Routes Structure  GTFS Latitude  GTFS Longitude  ADA  \n",
       "0            N W  Elevated      40.775036      -73.912034    0  \n",
       "1            N W  Elevated      40.770258      -73.917843    1  \n",
       "2            N W  Elevated      40.766779      -73.921479    0  \n",
       "3            N W  Elevated      40.761820      -73.925508    0  \n",
       "4            N W  Elevated      40.756804      -73.929575    0  "
      ]
     },
     "execution_count": 49,
     "metadata": {},
     "output_type": "execute_result"
    }
   ],
   "source": [
    "stations_df = stations_df.drop(\n",
    "    columns=[\n",
    "        \"Division\",\n",
    "        \"Line\",\n",
    "        \"North Direction Label\",\n",
    "        \"South Direction Label\",\n",
    "        \"ADA Northbound\",\n",
    "        \"ADA Southbound\",\n",
    "        \"ADA Notes\",\n",
    "        \"Georeference\",\n",
    "    ]\n",
    ")\n",
    "stations_df.head()"
   ]
  },
  {
   "cell_type": "code",
   "execution_count": 50,
   "metadata": {},
   "outputs": [
    {
     "data": {
      "text/plain": [
       "Day of Week                        object\n",
       "Hour of Day                         int64\n",
       "Timestamp                          object\n",
       "Origin Station Complex ID           int64\n",
       "Destination Station Complex ID      int64\n",
       "Estimated Average Ridership       float64\n",
       "dtype: object"
      ]
     },
     "execution_count": 50,
     "metadata": {},
     "output_type": "execute_result"
    }
   ],
   "source": [
    "ridership_df.dtypes"
   ]
  },
  {
   "cell_type": "code",
   "execution_count": 51,
   "metadata": {},
   "outputs": [
    {
     "data": {
      "text/plain": [
       "GTFS Stop ID       object\n",
       "Station ID          int64\n",
       "Complex ID          int64\n",
       "Stop Name          object\n",
       "Borough            object\n",
       "CBD                  bool\n",
       "Daytime Routes     object\n",
       "Structure          object\n",
       "GTFS Latitude     float64\n",
       "GTFS Longitude    float64\n",
       "ADA                 int64\n",
       "dtype: object"
      ]
     },
     "execution_count": 51,
     "metadata": {},
     "output_type": "execute_result"
    }
   ],
   "source": [
    "stations_df.dtypes"
   ]
  },
  {
   "cell_type": "markdown",
   "metadata": {},
   "source": [
    "Directed: trip from one station to another w direction\n",
    "\n",
    "Weighted: weight representing average ridership\n",
    "\n",
    "Self-loops: idk"
   ]
  },
  {
   "cell_type": "code",
   "execution_count": 52,
   "metadata": {},
   "outputs": [],
   "source": [
    "G = nx.DiGraph()\n",
    "\n",
    "# Initialize the graph with nodes\n",
    "for index, row in stations_df.iterrows():\n",
    "    G.add_node(\n",
    "        row[\"Complex ID\"],\n",
    "        name=row[\"Stop Name\"],\n",
    "        borough=row[\"Borough\"],\n",
    "        ADA=row[\"ADA\"],\n",
    "        latitude=row[\"GTFS Latitude\"],\n",
    "        longitude=row[\"GTFS Longitude\"],\n",
    "    )\n",
    "\n",
    "# Add edges incrementally, but store ridership as a list of dictionaries to keep all trip details\n",
    "for _, row in ridership_df.iterrows():\n",
    "    origin = row[\"Origin Station Complex ID\"]\n",
    "    destination = row[\"Destination Station Complex ID\"]\n",
    "\n",
    "    # If the edge already exists, append the new trip details to the list\n",
    "    if G.has_edge(origin, destination):\n",
    "        G[origin][destination][\"trips\"].append(\n",
    "            {\n",
    "                \"ridership\": row[\"Estimated Average Ridership\"],\n",
    "                \"day_of_week\": row[\"Day of Week\"],\n",
    "                \"hour_of_day\": row[\"Hour of Day\"],\n",
    "            }\n",
    "        )\n",
    "    else:\n",
    "        # If the edge doesn't exist, create it and add the first trip\n",
    "        G.add_edge(\n",
    "            origin,\n",
    "            destination,\n",
    "            trips=[\n",
    "                {\n",
    "                    \"ridership\": row[\"Estimated Average Ridership\"],\n",
    "                    \"day_of_week\": row[\"Day of Week\"],\n",
    "                    \"hour_of_day\": row[\"Hour of Day\"],\n",
    "                }\n",
    "            ],\n",
    "        )"
   ]
  },
  {
   "cell_type": "code",
   "execution_count": 53,
   "metadata": {},
   "outputs": [
    {
     "name": "stdout",
     "output_type": "stream",
     "text": [
      "DiGraph with 445 nodes and 174488 edges\n"
     ]
    }
   ],
   "source": [
    "print(G)\n"
   ]
  },
  {
   "cell_type": "code",
   "execution_count": 54,
   "metadata": {},
   "outputs": [
    {
     "data": {
      "text/plain": [
       "445"
      ]
     },
     "execution_count": 54,
     "metadata": {},
     "output_type": "execute_result"
    }
   ],
   "source": [
    "unique_nodes_count = stations_df[\"Complex ID\"].nunique()\n",
    "unique_nodes_count"
   ]
  },
  {
   "cell_type": "code",
   "execution_count": null,
   "metadata": {},
   "outputs": [],
   "source": []
  },
  {
   "cell_type": "code",
   "execution_count": 55,
   "metadata": {},
   "outputs": [
    {
     "data": {
      "image/png": "[encoded data removed]",
      "text/plain": [
       "<Figure size 640x480 with 1 Axes>"
      ]
     },
     "metadata": {},
     "output_type": "display_data"
    }
   ],
   "source": [
    "subgraph_nodes = list(G.nodes())[:50]\n",
    "subgraph = G.subgraph(subgraph_nodes)\n",
    "\n",
    "nx.draw(subgraph, with_labels=True, node_size=50, font_size=8)\n",
    "plt.show()"
   ]
  },
  {
   "cell_type": "code",
   "execution_count": 56,
   "metadata": {},
   "outputs": [
    {
     "data": {
      "text/plain": [
       "[(611, 772832.8064999951),\n",
       " (610, 578428.9966000087),\n",
       " (607, 421029.6783999983),\n",
       " (602, 382816.6319999976),\n",
       " (164, 332532.6990000031)]"
      ]
     },
     "execution_count": 56,
     "metadata": {},
     "output_type": "execute_result"
    }
   ],
   "source": [
    "aggregated_stations = {}\n",
    "\n",
    "for u, v, data in G.edges(data=True):\n",
    "    if u not in aggregated_stations:\n",
    "        aggregated_stations[u] = 0\n",
    "\n",
    "    for trip in data[\"trips\"]:\n",
    "        aggregated_stations[u] += trip[\"ridership\"]\n",
    "\n",
    "top_5_stations = sorted(aggregated_stations.items(), key=lambda x: x[1], reverse=True)[\n",
    "    :5\n",
    "]\n",
    "\n",
    "top_5_stations"
   ]
  },
  {
   "cell_type": "code",
   "execution_count": 57,
   "metadata": {},
   "outputs": [
    {
     "data": {
      "text/plain": [
       "[(610, 628, 27816.9111),\n",
       " (628, 610, 26933.6357),\n",
       " (611, 610, 23610.6667),\n",
       " (610, 611, 23032.0468),\n",
       " (610, 602, 21768.323)]"
      ]
     },
     "execution_count": 57,
     "metadata": {},
     "output_type": "execute_result"
    }
   ],
   "source": [
    "aggregated_routes = []\n",
    "\n",
    "for u, v, data in G.edges(data=True):\n",
    "    total_ridership = sum(trip[\"ridership\"] for trip in data[\"trips\"])\n",
    "    aggregated_routes.append((u, v, total_ridership))\n",
    "\n",
    "top_5_routes = sorted(aggregated_routes, key=lambda x: x[2], reverse=True)[:5]\n",
    "\n",
    "top_5_routes"
   ]
  },
  {
   "cell_type": "code",
   "execution_count": 58,
   "metadata": {},
   "outputs": [
    {
     "name": "stdout",
     "output_type": "stream",
     "text": [
      "Origin Station Complex ID\n",
      "611    772832.8065\n",
      "610    578428.9966\n",
      "607    421029.6784\n",
      "602    382816.6320\n",
      "164    332532.6990\n",
      "Name: Estimated Average Ridership, dtype: float64\n"
     ]
    }
   ],
   "source": [
    "# Check\n",
    "origin_ridership = ridership_df.groupby(\"Origin Station Complex ID\")[\n",
    "    \"Estimated Average Ridership\"\n",
    "].sum()\n",
    "\n",
    "top_5_origins = origin_ridership.sort_values(ascending=False).head(5)\n",
    "print(top_5_origins)"
   ]
  },
  {
   "cell_type": "code",
   "execution_count": 59,
   "metadata": {},
   "outputs": [
    {
     "name": "stdout",
     "output_type": "stream",
     "text": [
      "Destination Station Complex ID\n",
      "611    755731.0109\n",
      "610    553936.6710\n",
      "607    427831.4631\n",
      "602    408713.8706\n",
      "628    324693.1087\n",
      "Name: Estimated Average Ridership, dtype: float64\n"
     ]
    }
   ],
   "source": [
    "destination_ridership = ridership_df.groupby(\"Destination Station Complex ID\")[\n",
    "    \"Estimated Average Ridership\"\n",
    "].sum()\n",
    "\n",
    "top_5_destinations = destination_ridership.sort_values(ascending=False).head(5)\n",
    "print(top_5_destinations)"
   ]
  },
  {
   "cell_type": "code",
   "execution_count": 60,
   "metadata": {},
   "outputs": [
    {
     "name": "stdout",
     "output_type": "stream",
     "text": [
      "Origin Station Complex ID  Destination Station Complex ID\n",
      "610                        628                               27816.9111\n",
      "628                        610                               26933.6357\n",
      "611                        610                               23610.6667\n",
      "610                        611                               23032.0468\n",
      "                           602                               21768.3230\n",
      "Name: Estimated Average Ridership, dtype: float64\n"
     ]
    }
   ],
   "source": [
    "routes_ridership = ridership_df.groupby(\n",
    "    [\"Origin Station Complex ID\", \"Destination Station Complex ID\"]\n",
    ")[\"Estimated Average Ridership\"].sum()\n",
    "\n",
    "top_5_routes = routes_ridership.sort_values(ascending=False).head(5)\n",
    "print(top_5_routes)"
   ]
  },
  {
   "cell_type": "markdown",
   "metadata": {},
   "source": [
    "1a"
   ]
  },
  {
   "cell_type": "code",
   "execution_count": 61,
   "metadata": {},
   "outputs": [
    {
     "name": "stdout",
     "output_type": "stream",
     "text": [
      "M: [(611, 492022.89099999913), (610, 375744.056100002), (607, 223684.46730000057), (164, 219993.4277999995), (318, 212053.69609999945)]\n",
      "Bk: [(617, 101892.60109999987), (636, 55409.06489999984), (620, 44169.229199999856), (51, 39286.06430000029), (345, 38693.42919999978)]\n",
      "Q: [(447, 115028.43759999995), (616, 106116.53660000024), (450, 49340.885699999926), (451, 47856.67200000009), (279, 42665.570400000215)]\n",
      "Bx: [(604, 20482.494199999943), (434, 18945.420700000046), (371, 13748.588000000156), (366, 13551.495300000042), (382, 12690.52100000005)]\n",
      "SI: []\n"
     ]
    }
   ],
   "source": [
    "for borough in [\"M\", \"Bk\", \"Q\", \"Bx\", \"SI\"]:\n",
    "\n",
    "    borough_nodes = [n for n, d in G.nodes(data=True) if d[\"borough\"] == borough]\n",
    "\n",
    "    borough_subgraph = G.subgraph(borough_nodes)\n",
    "\n",
    "    aggregated_ridership = {}\n",
    "    for u, v, data in borough_subgraph.edges(data=True):\n",
    "\n",
    "        if u not in aggregated_ridership:\n",
    "\n",
    "            aggregated_ridership[u] = 0\n",
    "\n",
    "        for trip in data[\"trips\"]:\n",
    "\n",
    "            aggregated_ridership[u] += trip[\"ridership\"]\n",
    "\n",
    "    top_5_origins = sorted(\n",
    "        aggregated_ridership.items(), key=lambda x: x[1], reverse=True\n",
    "    )[:5]\n",
    "\n",
    "    print(f\"{borough}: {top_5_origins}\")"
   ]
  },
  {
   "cell_type": "markdown",
   "metadata": {},
   "source": [
    "1b"
   ]
  },
  {
   "cell_type": "code",
   "execution_count": 62,
   "metadata": {},
   "outputs": [
    {
     "data": {
      "text/plain": [
       "[(611, 366682.6977999996),\n",
       " (610, 299994.9464000017),\n",
       " (607, 198093.2732000026),\n",
       " (602, 178115.10260000048),\n",
       " (628, 158768.42939999944)]"
      ]
     },
     "execution_count": 62,
     "metadata": {},
     "output_type": "execute_result"
    }
   ],
   "source": [
    "aggregated_ridership = {}\n",
    "for u, v, data in G.edges(data=True):\n",
    "\n",
    "    if u not in aggregated_ridership:\n",
    "\n",
    "        aggregated_ridership[u] = 0\n",
    "\n",
    "    for trip in data[\"trips\"]:\n",
    "\n",
    "        if trip[\"day_of_week\"] in [\"Monday\", \"Tuesday\", \"Wednesday\"]:\n",
    "\n",
    "            aggregated_ridership[u] += trip[\"ridership\"]\n",
    "\n",
    "\n",
    "top_5_origins_mtw = sorted(\n",
    "    aggregated_ridership.items(), key=lambda x: x[1], reverse=True\n",
    ")[:5]\n",
    "\n",
    "\n",
    "\n",
    "top_5_origins_mtw"
   ]
  },
  {
   "cell_type": "markdown",
   "metadata": {},
   "source": [
    "1c"
   ]
  },
  {
   "cell_type": "code",
   "execution_count": 63,
   "metadata": {},
   "outputs": [
    {
     "data": {
      "text/plain": [
       "[(611, 151484.71489999993),\n",
       " (607, 81496.3893000002),\n",
       " (610, 78418.81549999978),\n",
       " (602, 77392.21219999992),\n",
       " (164, 69408.95950000006)]"
      ]
     },
     "execution_count": 63,
     "metadata": {},
     "output_type": "execute_result"
    }
   ],
   "source": [
    "aggregated_ridership = {}\n",
    "\n",
    "for u, v, data in G.edges(data=True):\n",
    "\n",
    "    if u not in aggregated_ridership:\n",
    "\n",
    "        aggregated_ridership[u] = 0\n",
    "\n",
    "    for trip in data[\"trips\"]:\n",
    "\n",
    "        if trip[\"day_of_week\"] in [\"Saturday\", \"Sunday\"]:\n",
    "\n",
    "            aggregated_ridership[u] += trip[\"ridership\"]\n",
    "\n",
    "\n",
    "top_5_origins_ss = sorted(\n",
    "    aggregated_ridership.items(), key=lambda x: x[1], reverse=True\n",
    ")[:5]\n",
    "\n",
    "\n",
    "\n",
    "top_5_origins_ss"
   ]
  },
  {
   "cell_type": "markdown",
   "metadata": {},
   "source": [
    "1d"
   ]
  },
  {
   "cell_type": "code",
   "execution_count": 64,
   "metadata": {},
   "outputs": [
    {
     "data": {
      "text/plain": [
       "[(611, 23851.845899999837),\n",
       " (616, 14400.297700000001),\n",
       " (447, 11501.979899999966),\n",
       " (450, 11346.55689999999),\n",
       " (278, 8971.765100000013)]"
      ]
     },
     "execution_count": 64,
     "metadata": {},
     "output_type": "execute_result"
    }
   ],
   "source": [
    "aggregated_ridership = {}\n",
    "\n",
    "for u, v, data in G.edges(data=True):\n",
    "    if u not in aggregated_ridership:\n",
    "        aggregated_ridership[u] = 0\n",
    "    for trip in data[\"trips\"]:\n",
    "        if 1 <= trip[\"hour_of_day\"] <= 5:\n",
    "            aggregated_ridership[u] += trip[\"ridership\"]\n",
    "\n",
    "top_5_origins_night = sorted(\n",
    "    aggregated_ridership.items(), key=lambda x: x[1], reverse=True\n",
    ")[:5]\n",
    "\n",
    "top_5_origins_night"
   ]
  },
  {
   "cell_type": "code",
   "execution_count": 65,
   "metadata": {},
   "outputs": [
    {
     "data": {
      "text/plain": [
       "Origin Station Complex ID\n",
       "611    23851.8459\n",
       "616    14400.2977\n",
       "447    11501.9799\n",
       "450    11346.5569\n",
       "278     8971.7651\n",
       "Name: Estimated Average Ridership, dtype: float64"
      ]
     },
     "execution_count": 65,
     "metadata": {},
     "output_type": "execute_result"
    }
   ],
   "source": [
    "# Check\n",
    "filtered_df = ridership_df[\n",
    "    (ridership_df[\"Hour of Day\"] >= 1) & (ridership_df[\"Hour of Day\"] <= 5)\n",
    "]\n",
    "\n",
    "origin_ridership = filtered_df.groupby(\"Origin Station Complex ID\")[\n",
    "    \"Estimated Average Ridership\"\n",
    "].sum()\n",
    "\n",
    "top_5_origins_df = origin_ridership.sort_values(ascending=False).head(5)\n",
    "\n",
    "top_5_origins_df"
   ]
  },
  {
   "cell_type": "markdown",
   "metadata": {},
   "source": [
    "1e"
   ]
  },
  {
   "cell_type": "code",
   "execution_count": 66,
   "metadata": {},
   "outputs": [
    {
     "name": "stdout",
     "output_type": "stream",
     "text": [
      "[(611, 173476.38119999933), (610, 120589.19049999968), (616, 89547.93639999963), (318, 86708.27519999936), (447, 84534.1125000009)]\n"
     ]
    }
   ],
   "source": [
    "aggregated_ridership = {}\n",
    "\n",
    "for u, v, data in G.edges(data=True):\n",
    "    if u not in aggregated_ridership:\n",
    "        aggregated_ridership[u] = 0\n",
    "    for trip in data[\"trips\"]:\n",
    "        if 6 <= trip[\"hour_of_day\"] <= 9:\n",
    "            aggregated_ridership[u] += trip[\"ridership\"]\n",
    "\n",
    "top_5_origins_morning = sorted(\n",
    "    aggregated_ridership.items(), key=lambda x: x[1], reverse=True\n",
    ")[:5]\n",
    "\n",
    "print(top_5_origins_morning)"
   ]
  },
  {
   "cell_type": "markdown",
   "metadata": {},
   "source": [
    "2a"
   ]
  },
  {
   "cell_type": "code",
   "execution_count": 67,
   "metadata": {},
   "outputs": [
    {
     "name": "stdout",
     "output_type": "stream",
     "text": [
      "M: [(611, 755731.0109000076), (610, 553936.6709999953), (607, 427831.4630999997), (602, 408713.8705999979), (628, 324693.1086999991)]\n",
      "Bk: [(617, 182108.8650999996), (120, 155106.0882000009), (636, 142927.4382999992), (620, 117848.19650000075), (345, 86573.23950000125)]\n",
      "Q: [(616, 273041.5918999972), (447, 238424.81610000014), (606, 113193.42130000012), (450, 109201.55239999967), (451, 103706.43460000036)]\n",
      "Bx: [(604, 72982.02390000041), (434, 58186.86289999997), (366, 51492.97849999995), (603, 34738.47289999991), (382, 33780.46409999978)]\n",
      "SI: []\n"
     ]
    }
   ],
   "source": [
    "for borough in [\"M\", \"Bk\", \"Q\", \"Bx\", \"SI\"]:\n",
    "    borough_nodes = [n for n, d in G.nodes(data=True) if d[\"borough\"] == borough]\n",
    "\n",
    "    aggregated_ridership = {}\n",
    "\n",
    "    for u, v, data in G.edges(data=True):\n",
    "        if v in borough_nodes:\n",
    "            if v not in aggregated_ridership:\n",
    "                aggregated_ridership[v] = 0\n",
    "            for trip in data[\"trips\"]:\n",
    "                aggregated_ridership[v] += trip[\"ridership\"]\n",
    "\n",
    "    top_5_destinations = sorted(\n",
    "        aggregated_ridership.items(), key=lambda x: x[1], reverse=True\n",
    "    )[:5]\n",
    "\n",
    "    print(f\"{borough}: {top_5_destinations}\")"
   ]
  },
  {
   "cell_type": "markdown",
   "metadata": {},
   "source": [
    "2b"
   ]
  },
  {
   "cell_type": "code",
   "execution_count": 68,
   "metadata": {},
   "outputs": [
    {
     "name": "stdout",
     "output_type": "stream",
     "text": [
      "[(611, 254027.9514999997), (610, 193929.8707), (607, 146122.45520000084), (602, 137625.25149999914), (628, 112550.08569999952)]\n"
     ]
    }
   ],
   "source": [
    "aggregated_ridership = {}\n",
    "\n",
    "for u, v, data in G.edges(data=True):\n",
    "    if v not in aggregated_ridership:\n",
    "        aggregated_ridership[v] = 0\n",
    "    for trip in data[\"trips\"]:\n",
    "        if trip[\"day_of_week\"] in [\"Thursday\", \"Friday\"]:\n",
    "            aggregated_ridership[v] += trip[\"ridership\"]\n",
    "\n",
    "top_5_destinations_th_fri = sorted(\n",
    "    aggregated_ridership.items(), key=lambda x: x[1], reverse=True\n",
    ")[:5]\n",
    "\n",
    "print(top_5_destinations_th_fri)"
   ]
  },
  {
   "cell_type": "markdown",
   "metadata": {},
   "source": [
    "2c"
   ]
  },
  {
   "cell_type": "code",
   "execution_count": 69,
   "metadata": {},
   "outputs": [
    {
     "name": "stdout",
     "output_type": "stream",
     "text": [
      "[(611, 82215.39059999987), (607, 48560.38809999996), (602, 48271.31670000008), (610, 40886.469899999924), (164, 35605.25350000009)]\n"
     ]
    }
   ],
   "source": [
    "aggregated_ridership = {}\n",
    "\n",
    "for u, v, data in G.edges(data=True):\n",
    "    if v not in aggregated_ridership:\n",
    "        aggregated_ridership[v] = 0\n",
    "    for trip in data[\"trips\"]:\n",
    "        if trip[\"day_of_week\"] == \"Saturday\":\n",
    "            aggregated_ridership[v] += trip[\"ridership\"]\n",
    "\n",
    "top_5_destinations_saturday = sorted(\n",
    "    aggregated_ridership.items(), key=lambda x: x[1], reverse=True\n",
    ")[:5]\n",
    "\n",
    "print(top_5_destinations_saturday)"
   ]
  },
  {
   "cell_type": "markdown",
   "metadata": {},
   "source": [
    "2d"
   ]
  },
  {
   "cell_type": "code",
   "execution_count": 70,
   "metadata": {},
   "outputs": [
    {
     "name": "stdout",
     "output_type": "stream",
     "text": [
      "[(611, 24700.964199999948), (610, 19211.66700000001), (607, 13386.72769999996), (616, 12220.43559999997), (628, 12128.324100000027)]\n"
     ]
    }
   ],
   "source": [
    "aggregated_ridership = {}\n",
    "\n",
    "for u, v, data in G.edges(data=True):\n",
    "    if v not in aggregated_ridership:\n",
    "        aggregated_ridership[v] = 0\n",
    "    for trip in data[\"trips\"]:\n",
    "        if 0 <= trip[\"hour_of_day\"] <= 5:\n",
    "            aggregated_ridership[v] += trip[\"ridership\"]\n",
    "\n",
    "top_5_destinations_night = sorted(\n",
    "    aggregated_ridership.items(), key=lambda x: x[1], reverse=True\n",
    ")[:5]\n",
    "\n",
    "print(top_5_destinations_night)"
   ]
  },
  {
   "cell_type": "markdown",
   "metadata": {},
   "source": [
    "2e"
   ]
  },
  {
   "cell_type": "code",
   "execution_count": 71,
   "metadata": {},
   "outputs": [
    {
     "name": "stdout",
     "output_type": "stream",
     "text": [
      "[(611, 130974.97279999986), (610, 67513.95080000036), (607, 63408.88060000024), (616, 62489.09310000007), (602, 60015.50270000017)]\n"
     ]
    }
   ],
   "source": [
    "aggregated_ridership = {}\n",
    "\n",
    "for u, v, data in G.edges(data=True):\n",
    "    if v not in aggregated_ridership:\n",
    "        aggregated_ridership[v] = 0\n",
    "    for trip in data[\"trips\"]:\n",
    "        if 18 <= trip[\"hour_of_day\"] <= 21:\n",
    "            aggregated_ridership[v] += trip[\"ridership\"]\n",
    "top_5_destinations_evening = sorted(\n",
    "    aggregated_ridership.items(), key=lambda x: x[1], reverse=True\n",
    ")[:5]\n",
    "\n",
    "print(top_5_destinations_evening)"
   ]
  },
  {
   "cell_type": "markdown",
   "metadata": {},
   "source": [
    "3a"
   ]
  },
  {
   "cell_type": "code",
   "execution_count": 72,
   "metadata": {},
   "outputs": [
    {
     "name": "stdout",
     "output_type": "stream",
     "text": [
      "[((610, 611), 282.2022), ((447, 450), 273.77160000000003), ((628, 610), 272.3798), ((447, 451), 271.3252), ((610, 602), 270.66179999999997), ((447, 616), 259.85699999999997), ((602, 610), 255.8078), ((451, 447), 239.9478), ((611, 610), 232.1258), ((610, 628), 231.0762)]\n"
     ]
    }
   ],
   "source": [
    "aggregated_ridership = {}\n",
    "\n",
    "for u, v, data in G.edges(data=True):\n",
    "    if (u, v) not in aggregated_ridership:\n",
    "        aggregated_ridership[(u, v)] = 0\n",
    "    for trip in data[\"trips\"]:\n",
    "        if trip[\"day_of_week\"] == \"Monday\" and 13 <= trip[\"hour_of_day\"] <= 14:\n",
    "            aggregated_ridership[(u, v)] += trip[\"ridership\"]\n",
    "\n",
    "top_10_pairs_monday = sorted(\n",
    "    aggregated_ridership.items(), key=lambda x: x[1], reverse=True\n",
    ")[:10]\n",
    "\n",
    "print(top_10_pairs_monday)"
   ]
  },
  {
   "cell_type": "markdown",
   "metadata": {},
   "source": [
    "3b"
   ]
  },
  {
   "cell_type": "code",
   "execution_count": 73,
   "metadata": {},
   "outputs": [
    {
     "name": "stdout",
     "output_type": "stream",
     "text": [
      "[((447, 616), 645.8218), ((447, 450), 644.121), ((447, 451), 593.8203), ((451, 447), 433.6342), ((447, 452), 385.55960000000005), ((616, 447), 345.3137), ((616, 611), 290.4628), ((450, 447), 278.0807), ((447, 449), 240.2326), ((453, 447), 235.28950000000003)]\n"
     ]
    }
   ],
   "source": [
    "aggregated_ridership = {}\n",
    "\n",
    "for u, v, data in G.edges(data=True):\n",
    "    source_borough = G.nodes[u][\"borough\"]\n",
    "    if (u, v) not in aggregated_ridership and source_borough == \"Q\":\n",
    "        aggregated_ridership[(u, v)] = 0\n",
    "    for trip in data[\"trips\"]:\n",
    "        if (\n",
    "            source_borough == \"Q\"\n",
    "            and trip[\"day_of_week\"] == \"Friday\"\n",
    "            and 18 <= trip[\"hour_of_day\"] <= 21\n",
    "        ):\n",
    "            aggregated_ridership[(u, v)] += trip[\"ridership\"]\n",
    "\n",
    "top_10_pairs_queens_friday = sorted(\n",
    "    aggregated_ridership.items(), key=lambda x: x[1], reverse=True\n",
    ")[:10]\n",
    "\n",
    "print(top_10_pairs_queens_friday)"
   ]
  },
  {
   "cell_type": "markdown",
   "metadata": {},
   "source": [
    "3c"
   ]
  },
  {
   "cell_type": "code",
   "execution_count": 74,
   "metadata": {},
   "outputs": [
    {
     "name": "stdout",
     "output_type": "stream",
     "text": [
      "[((345, 610), 324.15459999999996), ((359, 611), 213.30200000000002), ((359, 610), 178.55929999999998), ((345, 602), 176.2855), ((345, 628), 169.7879), ((345, 611), 165.3638), ((120, 119), 161.08069999999995), ((359, 628), 152.14210000000003), ((359, 318), 145.7379), ((345, 414), 142.221)]\n"
     ]
    }
   ],
   "source": [
    "aggregated_ridership = {}\n",
    "\n",
    "for u, v, data in G.edges(data=True):\n",
    "    source_borough = G.nodes[u][\"borough\"]\n",
    "    if (u, v) not in aggregated_ridership and source_borough == \"Bk\":\n",
    "        aggregated_ridership[(u, v)] = 0\n",
    "    for trip in data[\"trips\"]:\n",
    "        if source_borough == \"Bk\" and 1 <= trip[\"hour_of_day\"] <= 5:\n",
    "            aggregated_ridership[(u, v)] += trip[\"ridership\"]\n",
    "\n",
    "top_10_pairs_brooklyn_night = sorted(\n",
    "    aggregated_ridership.items(), key=lambda x: x[1], reverse=True\n",
    ")[:10]\n",
    "\n",
    "print(top_10_pairs_brooklyn_night)"
   ]
  },
  {
   "cell_type": "markdown",
   "metadata": {},
   "source": [
    "3d"
   ]
  },
  {
   "cell_type": "code",
   "execution_count": 75,
   "metadata": {},
   "outputs": [
    {
     "name": "stdout",
     "output_type": "stream",
     "text": [
      "[((617, 414), 1029.6122999999998), ((345, 610), 692.6152000000001), ((51, 607), 655.3457000000001), ((620, 610), 653.3663), ((359, 610), 589.2357), ((345, 628), 580.2716), ((359, 628), 557.0980999999999), ((120, 610), 555.5914), ((51, 225), 503.5513), ((54, 225), 478.5522)]\n"
     ]
    }
   ],
   "source": [
    "aggregated_ridership = {}\n",
    "\n",
    "for u, v, data in G.edges(data=True):\n",
    "    if G.nodes[u][\"borough\"] == \"Bk\" and G.nodes[v][\"borough\"] == \"M\":\n",
    "        if (u, v) not in aggregated_ridership:\n",
    "            aggregated_ridership[(u, v)] = 0\n",
    "\n",
    "        for trip in data[\"trips\"]:\n",
    "            if (\n",
    "                trip[\"day_of_week\"] in [\"Monday\", \"Tuesday\", \"Wednesday\", \"Thursday\"]\n",
    "                and 6 <= trip[\"hour_of_day\"] <= 7\n",
    "            ):\n",
    "                aggregated_ridership[(u, v)] += trip[\"ridership\"]\n",
    "\n",
    "top_10_brooklyn_manhattan = sorted(\n",
    "    aggregated_ridership.items(), key=lambda x: x[1], reverse=True\n",
    ")[:10]\n",
    "\n",
    "print(top_10_brooklyn_manhattan)"
   ]
  },
  {
   "cell_type": "markdown",
   "metadata": {},
   "source": [
    "3e"
   ]
  },
  {
   "cell_type": "code",
   "execution_count": 76,
   "metadata": {},
   "outputs": [
    {
     "name": "stdout",
     "output_type": "stream",
     "text": [
      "[((366, 610), 562.2564), ((366, 602), 402.36749999999995), ((366, 392), 395.6825), ((366, 399), 383.7979), ((366, 397), 372.9343), ((366, 612), 357.86589999999995), ((366, 628), 346.6705), ((366, 622), 320.3933), ((604, 614), 306.00469999999996), ((378, 397), 302.63100000000003)]\n"
     ]
    }
   ],
   "source": [
    "aggregated_ridership = {}\n",
    "\n",
    "for u, v, data in G.edges(data=True):\n",
    "    if G.nodes[u][\"borough\"] == \"Bx\" and G.nodes[v][\"borough\"] == \"M\":\n",
    "        if (u, v) not in aggregated_ridership:\n",
    "            aggregated_ridership[(u, v)] = 0\n",
    "\n",
    "        for trip in data[\"trips\"]:\n",
    "            if (\n",
    "                trip[\"day_of_week\"] in [\"Monday\", \"Tuesday\", \"Wednesday\", \"Thursday\"]\n",
    "                and 6 <= trip[\"hour_of_day\"] <= 7\n",
    "            ):\n",
    "                aggregated_ridership[(u, v)] += trip[\"ridership\"]\n",
    "\n",
    "top_10_bronx_manhattan = sorted(\n",
    "    aggregated_ridership.items(), key=lambda x: x[1], reverse=True\n",
    ")[:10]\n",
    "\n",
    "print(top_10_bronx_manhattan)"
   ]
  },
  {
   "cell_type": "markdown",
   "metadata": {},
   "source": [
    "3f"
   ]
  },
  {
   "cell_type": "code",
   "execution_count": 77,
   "metadata": {},
   "outputs": [
    {
     "name": "stdout",
     "output_type": "stream",
     "text": [
      "[]\n"
     ]
    }
   ],
   "source": [
    "aggregated_ridership = {}\n",
    "\n",
    "for u, v, data in G.edges(data=True):\n",
    "    if G.nodes[u][\"borough\"] == \"SI\" and G.nodes[v][\"borough\"] == \"M\":\n",
    "        if (u, v) not in aggregated_ridership:\n",
    "            aggregated_ridership[(u, v)] = 0\n",
    "\n",
    "        for trip in data[\"trips\"]:\n",
    "            if (\n",
    "                trip[\"day_of_week\"] in [\"Monday\", \"Tuesday\", \"Wednesday\", \"Thursday\"]\n",
    "                and 6 <= trip[\"hour_of_day\"] <= 7\n",
    "            ):\n",
    "                aggregated_ridership[(u, v)] += trip[\"ridership\"]\n",
    "\n",
    "top_10_statenisland_manhattan = sorted(\n",
    "    aggregated_ridership.items(), key=lambda x: x[1], reverse=True\n",
    ")[:10]\n",
    "\n",
    "print(top_10_statenisland_manhattan)"
   ]
  },
  {
   "cell_type": "markdown",
   "metadata": {},
   "source": [
    "Confirming that staten island does not appear in ridership_df"
   ]
  },
  {
   "cell_type": "code",
   "execution_count": 78,
   "metadata": {},
   "outputs": [
    {
     "name": "stdout",
     "output_type": "stream",
     "text": [
      "0\n",
      "0\n"
     ]
    }
   ],
   "source": [
    "staten_island_origin_count = 0\n",
    "staten_island_destination_count = 0\n",
    "\n",
    "for u, v, data in G.edges(data=True):\n",
    "    source_borough = G.nodes[u][\"borough\"]\n",
    "    destination_borough = G.nodes[v][\"borough\"]\n",
    "\n",
    "    if source_borough == \"SI\":\n",
    "        for trip in data[\"trips\"]:\n",
    "            staten_island_origin_count += 1\n",
    "\n",
    "    if destination_borough == \"SI\":\n",
    "        for trip in data[\"trips\"]:\n",
    "            staten_island_destination_count += 1\n",
    "\n",
    "print(staten_island_origin_count)\n",
    "print(staten_island_destination_count)"
   ]
  },
  {
   "cell_type": "code",
   "execution_count": 79,
   "metadata": {},
   "outputs": [
    {
     "name": "stdout",
     "output_type": "stream",
     "text": [
      "0\n",
      "0\n"
     ]
    }
   ],
   "source": [
    "staten_island_station_ids = stations_df[stations_df[\"Borough\"] == \"SI\"][\n",
    "    \"Complex ID\"\n",
    "].unique()\n",
    "\n",
    "staten_island_origin_df = ridership_df[\n",
    "    ridership_df[\"Origin Station Complex ID\"].isin(staten_island_station_ids)\n",
    "]\n",
    "\n",
    "staten_island_destination_df = ridership_df[\n",
    "    ridership_df[\"Destination Station Complex ID\"].isin(staten_island_station_ids)\n",
    "]\n",
    "\n",
    "print(len(staten_island_origin_df))\n",
    "print(len(staten_island_destination_df))"
   ]
  },
  {
   "cell_type": "code",
   "execution_count": 80,
   "metadata": {},
   "outputs": [
    {
     "name": "stdout",
     "output_type": "stream",
     "text": [
      "['Q' 'M' 'Bk' 'Bx' 'SI']\n"
     ]
    }
   ],
   "source": [
    "unique_boroughs = stations_df[\"Borough\"].unique()\n",
    "\n",
    "print(unique_boroughs)"
   ]
  },
  {
   "cell_type": "code",
   "execution_count": 81,
   "metadata": {},
   "outputs": [
    {
     "data": {
      "text/plain": [
       "array([501, 502, 503, 504, 505, 506, 507, 508, 509, 510, 511, 512, 513,\n",
       "       514, 515, 516, 517, 518, 519, 522, 523], dtype=int64)"
      ]
     },
     "execution_count": 81,
     "metadata": {},
     "output_type": "execute_result"
    }
   ],
   "source": [
    "staten_island_station_ids = stations_df[stations_df[\"Borough\"] == \"SI\"][\n",
    "    \"Complex ID\"\n",
    "].unique()\n",
    "staten_island_station_ids"
   ]
  },
  {
   "cell_type": "code",
   "execution_count": 82,
   "metadata": {},
   "outputs": [
    {
     "name": "stdout",
     "output_type": "stream",
     "text": [
      "0\n",
      "0\n"
     ]
    }
   ],
   "source": [
    "staten_island_origin_df = ridership_df[\n",
    "    ridership_df[\"Origin Station Complex ID\"].isin(staten_island_station_ids)\n",
    "]\n",
    "staten_island_destination_df = ridership_df[\n",
    "    ridership_df[\"Destination Station Complex ID\"].isin(staten_island_station_ids)\n",
    "]\n",
    "\n",
    "print(len(staten_island_origin_df))\n",
    "print(len(staten_island_destination_df))"
   ]
  }
 ],
 "metadata": {
  "kernelspec": {
   "display_name": "Python 3",
   "language": "python",
   "name": "python3"
  },
  "language_info": {
   "codemirror_mode": {
    "name": "ipython",
    "version": 3
   },
   "file_extension": ".py",
   "mimetype": "text/x-python",
   "name": "python",
   "nbconvert_exporter": "python",
   "pygments_lexer": "ipython3",
   "version": "3.12.7"
  }
 },
 "nbformat": 4,
 "nbformat_minor": 2
}
